{
 "cells": [
  {
   "cell_type": "code",
   "execution_count": 1,
   "metadata": {},
   "outputs": [],
   "source": [
    "import seaborn as sns\n",
    "import matplotlib as mpl\n",
    "import pandas as pd\n",
    "import matplotlib.pyplot as plt\n",
    "import os"
   ]
  },
  {
   "cell_type": "markdown",
   "metadata": {},
   "source": [
    "IMPORT AND TRANSFORM DATAFRAME"
   ]
  },
  {
   "cell_type": "code",
   "execution_count": 13,
   "metadata": {},
   "outputs": [],
   "source": [
    "imag_to_plot = []\n",
    "full_names = []\n",
    "#import csv\n",
    "df = pd.read_csv(\"BASE (566) - CES33- Febrero 2023.csv\", sep = \";\")\n",
    "\n",
    "#create N variable for total cases\n",
    "N = df.shape[0]\n",
    "\n",
    "#before melting, discard imgs that are not going to be used for the especific plot\n",
    "selected_columns = imag_to_plot\n",
    "selected_columns.append('id')\n",
    "\n",
    "#create dictionary with names of variables\n",
    "dict_names = dict(zip(imag_to_plot, full_names))\n",
    "\n",
    "df_selected = df.drop(columns = [col for col in df.columns if col not in selected_columns])\n",
    "\n",
    "#replace empty values in imag_lucas\n",
    "if \"voto_lucas\" in df_selected.columns:\n",
    "    df_selected.voto_lucas.replace(\" \", \"Ns/Nc\", inplace=True)\n",
    "\n",
    "\n",
    "#melt df\n",
    "df_melt=df_selected.melt(id_vars= \"id\")\n",
    "\n",
    "#convert value column to a categoric variable for then order the columns\n",
    "\n",
    "column_order = [\"Seguro lo votaría\", \"Quizás lo votaría\", \"Nunca lo votaría\", \"Ns/Nc\"]\n",
    "\n",
    "df_melt[\"value\"] = df_melt[\"value\"].astype(\"category\")\n",
    "df_melt['value'] = df_melt['value'].cat.reorder_categories(column_order, ordered=True)"
   ]
  },
  {
   "cell_type": "markdown",
   "metadata": {},
   "source": [
    "CREATE PIVOT TABLE"
   ]
  },
  {
   "cell_type": "code",
   "execution_count": null,
   "metadata": {},
   "outputs": [],
   "source": [
    "func = lambda x: 100*x.count()/N\n",
    "\n",
    "\n",
    "table = pd.pivot_table(data=df_melt,\n",
    "                       columns='value',\n",
    "                       index= 'variable',\n",
    "                       values='value',          \n",
    "                       aggfunc=func\n",
    ")            \n",
    "\n",
    "table=table.round(1)\n",
    "\n",
    "table.sort_values(by=\"Ns/Nc\", ascending=False, axis=0, inplace=True)\n",
    "\n",
    "#rename index\n",
    "table=table.rename(index=dict_names)\n",
    "table"
   ]
  },
  {
   "attachments": {},
   "cell_type": "markdown",
   "metadata": {},
   "source": [
    "CREAR BARRAS APILADAS FORMATO PRESENTACIÓN"
   ]
  },
  {
   "cell_type": "code",
   "execution_count": null,
   "metadata": {},
   "outputs": [],
   "source": [
    "c = ['#A9D18E', '#FFF2CC', '#FFD966', '#D9D9D9']\n",
    "\n",
    "plt.style.use(\"seaborn-white\")\n",
    "fig, ax = plt.subplots(figsize =(14,6))\n",
    "table.plot(ax=ax, kind='barh',stacked=True,rot=90, color=c) #mark_right=True)\n",
    "\n",
    "ax.set\n",
    "#yticks\n",
    "plt.yticks(rotation = 0)\n",
    "#ylabel\n",
    "ax.set_ylabel(None)\n",
    "#legend\n",
    "plt.legend(fontsize=15, title=None, ncol=6, frameon=False, bbox_to_anchor=(1, -0.1))\n",
    "plt.xticks([0,20,40,60,80,100])\n",
    "plt.yticks(fontsize=16)\n",
    "\n",
    "\n",
    "\n",
    "for rect in ax.patches:\n",
    "    # Find where everything is located\n",
    "    height = rect.get_height()\n",
    "    width = rect.get_width()\n",
    "    x = rect.get_x()\n",
    "    y = rect.get_y()\n",
    "    \n",
    "    # The height of the bar is the data value and can be used as the label\n",
    "    label_text = f'{width:.1f}'  # f'{width:.2f}' to format decimal values\n",
    "    \n",
    "    # ax.text(x, y, text)\n",
    "    label_x = x + width / 2\n",
    "    label_y = y + height / 2\n",
    "    \n",
    "    # only plot labels greater than given width\n",
    "    if width > 2.5:\n",
    "        ax.text(label_x, label_y, label_text, ha='center', va='center', fontsize=15)\n",
    "\n",
    "\n",
    "\n",
    "\n",
    "plt.xlim(0, 100) \n",
    "\n",
    "\n",
    "plt.savefig(\"barras.png\", transparent=True)"
   ]
  }
 ],
 "metadata": {
  "kernelspec": {
   "display_name": "Python 3.9.13 ('base')",
   "language": "python",
   "name": "python3"
  },
  "language_info": {
   "codemirror_mode": {
    "name": "ipython",
    "version": 3
   },
   "file_extension": ".py",
   "mimetype": "text/x-python",
   "name": "python",
   "nbconvert_exporter": "python",
   "pygments_lexer": "ipython3",
   "version": "3.9.13"
  },
  "orig_nbformat": 4,
  "vscode": {
   "interpreter": {
    "hash": "696b982ae7b5903a53e1c4acc8be1c62fc78293862f668ce97d46f840077dbf5"
   }
  }
 },
 "nbformat": 4,
 "nbformat_minor": 2
}
